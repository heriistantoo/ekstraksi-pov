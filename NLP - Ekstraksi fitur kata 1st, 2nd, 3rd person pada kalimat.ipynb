{
 "cells": [
  {
   "cell_type": "code",
   "execution_count": 1,
   "metadata": {},
   "outputs": [],
   "source": [
    "import string\n",
    "import nltk"
   ]
  },
  {
   "cell_type": "code",
   "execution_count": 2,
   "metadata": {},
   "outputs": [
    {
     "name": "stdout",
     "output_type": "stream",
     "text": [
      "In this time of COVID-19 we were somewhat uncertain, before arrival, at how we could ensure our health during our stay. The hotel quickly gave us confidence that they had implemented a range of controls at entry and at the reception desk, they guaranteed 24 hours vacancy between room occupation, and even included a room sanitising pack. 10 minutes after arriving in the room we felt safe and confident that we didn’t need to be concerned. Bookings needed to be made for breakfast the following morning to eliminate any crowding and, even though the food was presented as a buffet, guests could not access food which was only able to be served directly by staff. The staff at breakfast, especially Irwan, Bella, and the traditional drink preparer (we didn’t get his name) were excellent. We will definitely stay at Four Points Pakuwon when next in Surabaya.\n"
     ]
    }
   ],
   "source": [
    "text = \"In this time of COVID-19 we were somewhat uncertain, before arrival, at how we could ensure our health during our stay. The hotel quickly gave us confidence that they had implemented a range of controls at entry and at the reception desk, they guaranteed 24 hours vacancy between room occupation, and even included a room sanitising pack. 10 minutes after arriving in the room we felt safe and confident that we didn’t need to be concerned. Bookings needed to be made for breakfast the following morning to eliminate any crowding and, even though the food was presented as a buffet, guests could not access food which was only able to be served directly by staff. The staff at breakfast, especially Irwan, Bella, and the traditional drink preparer (we didn’t get his name) were excellent. We will definitely stay at Four Points Pakuwon when next in Surabaya.\"\n",
    "print(text)"
   ]
  },
  {
   "cell_type": "code",
   "execution_count": 3,
   "metadata": {},
   "outputs": [
    {
     "name": "stdout",
     "output_type": "stream",
     "text": [
      "in this time of covid19 we were somewhat uncertain before arrival at how we could ensure our health during our stay the hotel quickly gave us confidence that they had implemented a range of controls at entry and at the reception desk they guaranteed 24 hours vacancy between room occupation and even included a room sanitising pack 10 minutes after arriving in the room we felt safe and confident that we didn’t need to be concerned bookings needed to be made for breakfast the following morning to eliminate any crowding and even though the food was presented as a buffet guests could not access food which was only able to be served directly by staff the staff at breakfast especially irwan bella and the traditional drink preparer we didn’t get his name were excellent we will definitely stay at four points pakuwon when next in surabaya\n"
     ]
    }
   ],
   "source": [
    "textLower = text.translate(str.maketrans('','',string.punctuation)).lower()\n",
    "print(textLower)"
   ]
  },
  {
   "cell_type": "code",
   "execution_count": 5,
   "metadata": {},
   "outputs": [
    {
     "name": "stdout",
     "output_type": "stream",
     "text": [
      "['in', 'this', 'time', 'of', 'covid19', 'we', 'were', 'somewhat', 'uncertain', 'before', 'arrival', 'at', 'how', 'we', 'could', 'ensure', 'our', 'health', 'during', 'our', 'stay', 'the', 'hotel', 'quickly', 'gave', 'us', 'confidence', 'that', 'they', 'had', 'implemented', 'a', 'range', 'of', 'controls', 'at', 'entry', 'and', 'at', 'the', 'reception', 'desk', 'they', 'guaranteed', '24', 'hours', 'vacancy', 'between', 'room', 'occupation', 'and', 'even', 'included', 'a', 'room', 'sanitising', 'pack', '10', 'minutes', 'after', 'arriving', 'in', 'the', 'room', 'we', 'felt', 'safe', 'and', 'confident', 'that', 'we', 'didn', '’', 't', 'need', 'to', 'be', 'concerned', 'bookings', 'needed', 'to', 'be', 'made', 'for', 'breakfast', 'the', 'following', 'morning', 'to', 'eliminate', 'any', 'crowding', 'and', 'even', 'though', 'the', 'food', 'was', 'presented', 'as', 'a', 'buffet', 'guests', 'could', 'not', 'access', 'food', 'which', 'was', 'only', 'able', 'to', 'be', 'served', 'directly', 'by', 'staff', 'the', 'staff', 'at', 'breakfast', 'especially', 'irwan', 'bella', 'and', 'the', 'traditional', 'drink', 'preparer', 'we', 'didn', '’', 't', 'get', 'his', 'name', 'were', 'excellent', 'we', 'will', 'definitely', 'stay', 'at', 'four', 'points', 'pakuwon', 'when', 'next', 'in', 'surabaya']\n"
     ]
    }
   ],
   "source": [
    "tokens = nltk.word_tokenize(textLower)\n",
    "print(tokens)"
   ]
  },
  {
   "cell_type": "code",
   "execution_count": 11,
   "metadata": {},
   "outputs": [
    {
     "name": "stdout",
     "output_type": "stream",
     "text": [
      "Jumlah kata 1st person: 7\n",
      "Nilai rasio: 0.04666666666666667\n"
     ]
    }
   ],
   "source": [
    "firstCounter = 0\n",
    "\n",
    "for word in tokens:\n",
    "        if word == \"i\":\n",
    "                firstCounter += 1\n",
    "        elif word == \"me\":\n",
    "                firstCounter += 1\n",
    "        elif word == \"mine\":\n",
    "                firstCounter += 1\n",
    "        elif word == \"we\":\n",
    "                firstCounter += 1\n",
    "        elif word == \"us\":\n",
    "                firstCounter += 1\n",
    "        elif word == \"ours\":\n",
    "                firstCounter += 1\n",
    "        elif word == \"im\":\n",
    "                firstCounter += 1\n",
    "        elif word == \"my\":\n",
    "                firstCounter += 1\n",
    "\n",
    "r_first = firstCounter/len(tokens) \n",
    "\n",
    "print(\"Jumlah kata 1st person: {}\".format(firstCounter))\n",
    "print(\"Nilai rasio: {}\".format(r_first))"
   ]
  },
  {
   "cell_type": "code",
   "execution_count": 12,
   "metadata": {},
   "outputs": [
    {
     "name": "stdout",
     "output_type": "stream",
     "text": [
      "In this time of COVID-19 we were somewhat uncertain, before arrival, at how we could ensure our health during our stay. The hotel quickly gave us confidence that they had implemented a range of controls at entry and at the reception desk, they guaranteed 24 hours vacancy between room occupation, and even included a room sanitising pack. 10 minutes after arriving in the room we felt safe and confident that we didn’t need to be concerned. Bookings needed to be made for breakfast the following morning to eliminate any crowding and, even though the food was presented as a buffet, guests could not access food which was only able to be served directly by staff. The staff at breakfast, especially Irwan, Bella, and the traditional drink preparer (we didn’t get his name) were excellent. We will definitely stay at Four Points Pakuwon when next in Surabaya.\n",
      "in this time of covid19 we were somewhat uncertain before arrival at how we could ensure our health during our stay the hotel quickly gave us confidence that they had implemented a range of controls at entry and at the reception desk they guaranteed 24 hours vacancy between room occupation and even included a room sanitising pack 10 minutes after arriving in the room we felt safe and confident that we didn’t need to be concerned bookings needed to be made for breakfast the following morning to eliminate any crowding and even though the food was presented as a buffet guests could not access food which was only able to be served directly by staff the staff at breakfast especially irwan bella and the traditional drink preparer we didn’t get his name were excellent we will definitely stay at four points pakuwon when next in surabaya\n",
      "['in', 'this', 'time', 'of', 'covid19', 'we', 'were', 'somewhat', 'uncertain', 'before', 'arrival', 'at', 'how', 'we', 'could', 'ensure', 'our', 'health', 'during', 'our', 'stay', 'the', 'hotel', 'quickly', 'gave', 'us', 'confidence', 'that', 'they', 'had', 'implemented', 'a', 'range', 'of', 'controls', 'at', 'entry', 'and', 'at', 'the', 'reception', 'desk', 'they', 'guaranteed', '24', 'hours', 'vacancy', 'between', 'room', 'occupation', 'and', 'even', 'included', 'a', 'room', 'sanitising', 'pack', '10', 'minutes', 'after', 'arriving', 'in', 'the', 'room', 'we', 'felt', 'safe', 'and', 'confident', 'that', 'we', 'didn', '’', 't', 'need', 'to', 'be', 'concerned', 'bookings', 'needed', 'to', 'be', 'made', 'for', 'breakfast', 'the', 'following', 'morning', 'to', 'eliminate', 'any', 'crowding', 'and', 'even', 'though', 'the', 'food', 'was', 'presented', 'as', 'a', 'buffet', 'guests', 'could', 'not', 'access', 'food', 'which', 'was', 'only', 'able', 'to', 'be', 'served', 'directly', 'by', 'staff', 'the', 'staff', 'at', 'breakfast', 'especially', 'irwan', 'bella', 'and', 'the', 'traditional', 'drink', 'preparer', 'we', 'didn', '’', 't', 'get', 'his', 'name', 'were', 'excellent', 'we', 'will', 'definitely', 'stay', 'at', 'four', 'points', 'pakuwon', 'when', 'next', 'in', 'surabaya']\n",
      "7\n"
     ]
    }
   ],
   "source": [
    "import string\n",
    "import nltk\n",
    "\n",
    "text = \"In this time of COVID-19 we were somewhat uncertain, before arrival, at how we could ensure our health during our stay. The hotel quickly gave us confidence that they had implemented a range of controls at entry and at the reception desk, they guaranteed 24 hours vacancy between room occupation, and even included a room sanitising pack. 10 minutes after arriving in the room we felt safe and confident that we didn’t need to be concerned. Bookings needed to be made for breakfast the following morning to eliminate any crowding and, even though the food was presented as a buffet, guests could not access food which was only able to be served directly by staff. The staff at breakfast, especially Irwan, Bella, and the traditional drink preparer (we didn’t get his name) were excellent. We will definitely stay at Four Points Pakuwon when next in Surabaya.\"\n",
    "\n",
    "textLower = text.translate(str.maketrans('','',string.punctuation)).lower()\n",
    "\n",
    "tokens = nltk.word_tokenize(textLower)\n",
    "\n",
    "firstCounter = 0\n",
    "\n",
    "for word in tokens:\n",
    "        if word == \"i\":\n",
    "                firstCounter += 1\n",
    "        elif word == \"me\":\n",
    "                firstCounter += 1\n",
    "        elif word == \"mine\":\n",
    "                firstCounter += 1\n",
    "        elif word == \"we\":\n",
    "                firstCounter += 1\n",
    "        elif word == \"us\":\n",
    "                firstCounter += 1\n",
    "        elif word == \"ours\":\n",
    "                firstCounter += 1\n",
    "        elif word == \"im\":\n",
    "                firstCounter += 1\n",
    "        elif word == \"my\":\n",
    "                firstCounter += 1\n",
    "\n",
    "r_first = firstCounter/len(tokens) \n",
    "\n",
    "print(firstCounter)"
   ]
  },
  {
   "cell_type": "code",
   "execution_count": 8,
   "metadata": {},
   "outputs": [
    {
     "name": "stderr",
     "output_type": "stream",
     "text": [
      "[nltk_data] Downloading package punkt to\n",
      "[nltk_data]     C:\\Users\\USER\\AppData\\Roaming\\nltk_data...\n",
      "[nltk_data]   Unzipping tokenizers\\punkt.zip.\n"
     ]
    },
    {
     "data": {
      "text/plain": [
       "True"
      ]
     },
     "execution_count": 8,
     "metadata": {},
     "output_type": "execute_result"
    }
   ],
   "source": [
    "import nltk\n",
    "nltk.download('punkt')"
   ]
  },
  {
   "cell_type": "code",
   "execution_count": 31,
   "metadata": {},
   "outputs": [
    {
     "name": "stdout",
     "output_type": "stream",
     "text": [
      "I checked in at the Affinia Hotel in Chicago shortly after dinner on Tuesday, I was greeted by very frendly staff from the valet service to front desk. You can tell people were happy at the hotel. I was pleasantly surprised when I got to my room. The room was very well decorated and well thought out. The furniture was in the right location and there was lots of space. Plus it was convenient with lots of power outlets The bedroom and washroom was very clean and I had a great sleep in their very comfortable bed. I was told by front desk i could choose from 6 different pillows, although i did not take advantage of this offer i thought what a great idea. Once in a while you come across hotels with great service, well thought out rooms in a perfect location (right off Magnificent Mile). When visiting Chicago again I will definitely try and stay at Affinia again  11\n",
      "\n",
      "Chicago is one of our favorite cities to visit. Some friends suggested trying The Talbott. I'm delighted we took them up. The Talbott is a great 'small' hotel a block and a half off of Michigan Avenue near the Four Seasons, Drake and Westin. The concierge staff was most helpfull. Gene and Stephanie took great care of us. The rooms were spacious and very fresh. The elevators could be a bit slow at times. Aside from the construction next door, our stay was perfect. Bice now runs the hotel restaurant. We enjoyed having breakfast there. We will stay there again.  5\n",
      "\n",
      "In a very nice location close to shopping and places to eat and also in a beautiful neighborhood. A small hotel with a pleasant place to sit in the lobby, the Pump Room is a classic place to have a drink. We did not have dinner there so I can not comment but we enjoyed people watching while we had an afternoon drink looking out the window at the people in the neighborhood. It is a short walk to very good shopping and eating.  4\n",
      "\n",
      "I Stayed at this hotel with 3 friends or 4 nights. The hotel was clean and tidy, throughout. The Concierge Christopher was excellent and helped as with all our needs, gave us discount vouchers etc. Hotel was in excellent position. 3 blocks from John Hancok Building and more importantly The Cheesecake Factory , Bloomingdales 3 blocks away and the Water Tower Shopping Centre 2 blocks away. We went to the huge I Max cinema which is about ten minutes away. Cant wait to go back to Chicago and The Affinia  4\n",
      "\n",
      "This is a great find for downtown Chicago. The price is right and the staff are excellent. As noted, there is construction going on around the hotel, but I didn't notice any issues that disturbed sleeping. I asked for a quiet room on an upper floor, and was gladly given one. The lobby is small, the atmosphere is that of a small boutique hotel. The concierge, Stephanie did a super job in finding us a restaurant and booking us reservations (along with a complimentary appetizer). We had a standard room, and it was spacious, tastefully decorated--everything we needed. The bathroom had a nice whirlpool tub for soaking--and the MP3 compatible radio was a nice perk. Just can't say enough about how nice the staff are--every single person you meet. Would definitely stay here again.  6\n",
      "\n"
     ]
    }
   ],
   "source": [
    "import nltk\n",
    "import string\n",
    "import mysql.connector\n",
    "\n",
    "db = mysql.connector.connect(\n",
    "    host=\"localhost\",\n",
    "    user=\"root\",\n",
    "    passwd=\"\",\n",
    "    database= \"youtube\"\n",
    ")\n",
    "\n",
    "cursor = db.cursor()\n",
    "\n",
    "def convertTuple(tup): \n",
    "    str =  ''.join(tup) \n",
    "    return str\n",
    "\n",
    "def textToView(id_text):\n",
    "    sql = \"SELECT TEXT FROM review WHERE id_text = {}\".format(id_text)\n",
    "    cursor.execute(sql)\n",
    "    \n",
    "    results = cursor.fetchall()\n",
    "    str1 = convertTuple(results[0])\n",
    "    text = str1\n",
    "    \n",
    "    textLower = text.translate(str.maketrans('','',string.punctuation)).lower()\n",
    "    tokens = nltk.word_tokenize(textLower)\n",
    "    \n",
    "    firstCounter = 0\n",
    "    \n",
    "    for word in tokens:\n",
    "            if word == \"i\":\n",
    "                 firstCounter += 1\n",
    "            elif word == \"me\":\n",
    "                 firstCounter += 1\n",
    "            elif word == \"mine\":\n",
    "                 firstCounter += 1\n",
    "            elif word == \"we\":\n",
    "                 firstCounter += 1\n",
    "            elif word == \"us\":\n",
    "                 firstCounter += 1\n",
    "            elif word == \"ours\":\n",
    "                 firstCounter += 1\n",
    "            elif word == \"im\":\n",
    "                 firstCounter += 1\n",
    "            elif word == \"my\":\n",
    "                 firstCounter += 1\n",
    "\n",
    "    r_first = firstCounter\n",
    "    print(text, r_first)\n",
    "    print()\n",
    "    \n",
    "\n",
    "sql = \"SELECT id_text FROM review\"\n",
    "cursor.execute(sql)\n",
    "results = cursor.fetchall()\n",
    "\n",
    "for id in results:\n",
    "    textToView(id[0])"
   ]
  }
 ],
 "metadata": {
  "kernelspec": {
   "display_name": "Python 3",
   "language": "python",
   "name": "python3"
  },
  "language_info": {
   "codemirror_mode": {
    "name": "ipython",
    "version": 3
   },
   "file_extension": ".py",
   "mimetype": "text/x-python",
   "name": "python",
   "nbconvert_exporter": "python",
   "pygments_lexer": "ipython3",
   "version": "3.8.5"
  }
 },
 "nbformat": 4,
 "nbformat_minor": 4
}
